{
 "cells": [
  {
   "cell_type": "code",
   "execution_count": null,
   "metadata": {},
   "outputs": [],
   "source": [
    "ЗАДАЧИ:\n",
    "1. Скорректировать doc файл (персонализация) и сохранить его в pdf\n",
    "\n",
    "PS работает в jupiter notebooks"
   ]
  },
  {
   "cell_type": "code",
   "execution_count": null,
   "metadata": {},
   "outputs": [],
   "source": [
    "pip install PyPDF2 "
   ]
  },
  {
   "cell_type": "code",
   "execution_count": 2,
   "metadata": {},
   "outputs": [
    {
     "name": "stdout",
     "output_type": "stream",
     "text": [
      "Requirement already satisfied: docxtpl in c:\\users\\user\\anaconda3\\lib\\site-packages (0.9.2)\n",
      "Requirement already satisfied: jinja2 in c:\\users\\user\\anaconda3\\lib\\site-packages (from docxtpl) (2.11.1)\n",
      "Requirement already satisfied: lxml in c:\\users\\user\\anaconda3\\lib\\site-packages (from docxtpl) (4.5.0)\n",
      "Requirement already satisfied: python-docx in c:\\users\\user\\anaconda3\\lib\\site-packages (from docxtpl) (0.8.10)\n",
      "Requirement already satisfied: six in c:\\users\\user\\anaconda3\\lib\\site-packages (from docxtpl) (1.14.0)\n",
      "Requirement already satisfied: MarkupSafe>=0.23 in c:\\users\\user\\anaconda3\\lib\\site-packages (from jinja2->docxtpl) (1.1.1)\n",
      "Note: you may need to restart the kernel to use updated packages.\n"
     ]
    }
   ],
   "source": [
    "pip install docxtpl"
   ]
  },
  {
   "cell_type": "code",
   "execution_count": 9,
   "metadata": {},
   "outputs": [],
   "source": [
    "from docxtpl import DocxTemplate  #для замены слов в word файле\n",
    "import win32com.client           #для перевода word в pdf \n",
    "import os\n",
    "import PyPDF2                     #для работы с pdf\n"
   ]
  },
  {
   "cell_type": "code",
   "execution_count": 14,
   "metadata": {},
   "outputs": [],
   "source": [
    "#пример\n",
    "\n",
    "#для корректировки doc.файла (словарь для персонализации (слова в исходном файле в нужном стиле и {{}})\n",
    "CONTEXT = {'тема' : 'ООО Ромашка', \n",
    "          'месяц' : \"Февраль 2020\",\n",
    "          \"адрес\" : 'г. Москва, ул. Долгоруковская, д. 10',\n",
    "           'договор' : 'Договор №123 от 10.02.2020'}"
   ]
  },
  {
   "cell_type": "code",
   "execution_count": 15,
   "metadata": {},
   "outputs": [],
   "source": [
    "#Преобразуем имеющийся doc файлом (персонализация + перевод в pdf)\n",
    "\n",
    "#замена шаблона\n",
    "doc = DocxTemplate('Пример_отчета.docx')                              \n",
    "doc.render(CONTEXT)                                               \n",
    "doc.save('Пример_отчета_correct.docx')                                     \n",
    "\n",
    "#конвертация в pdf\n",
    "wdFormatPDF = 17\n",
    "in_file = os.path.abspath ('Пример_отчета_correct.docx')                    \n",
    "out_file = os.path.abspath('Пример_отчета_correct.pdf')                     \n",
    "word = win32com.client.DispatchEx(\"Word.Application\")\n",
    "doc = word.Documents.Open(in_file)\n",
    "doc.SaveAs(out_file, FileFormat=wdFormatPDF)\n",
    "doc.Close()\n",
    "word.Quit()\n"
   ]
  },
  {
   "cell_type": "code",
   "execution_count": null,
   "metadata": {},
   "outputs": [],
   "source": []
  },
  {
   "cell_type": "code",
   "execution_count": null,
   "metadata": {},
   "outputs": [],
   "source": []
  }
 ],
 "metadata": {
  "kernelspec": {
   "display_name": "Python 3",
   "language": "python",
   "name": "python3"
  },
  "language_info": {
   "codemirror_mode": {
    "name": "ipython",
    "version": 3
   },
   "file_extension": ".py",
   "mimetype": "text/x-python",
   "name": "python",
   "nbconvert_exporter": "python",
   "pygments_lexer": "ipython3",
   "version": "3.7.6"
  }
 },
 "nbformat": 4,
 "nbformat_minor": 4
}
